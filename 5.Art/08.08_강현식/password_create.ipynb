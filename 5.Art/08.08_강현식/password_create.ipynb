{
 "cells": [
  {
   "cell_type": "markdown",
   "metadata": {},
   "source": [
    "### Lab6 - 비밀번호 자동 생성하는 로직 만들기\n",
    "\n",
    "> API에서 직접 검색 및 착출해서 활용해 보기(응용)<br>\n",
    "> 실행시마다 반드시 다른 비밀번호가 생성<br>\n",
    "> 단, 합의 사항 - 알파벳과 숫자 포함<br>"
   ]
  },
  {
   "cell_type": "code",
   "execution_count": 13,
   "metadata": {},
   "outputs": [
    {
     "name": "stdout",
     "output_type": "stream",
     "text": [
      "#spx!14vgz"
     ]
    }
   ],
   "source": [
    "import random\n",
    "\n",
    "x = [1,2,3,4,5,6,7,8,9,0]\n",
    "y = ['a','b','c','d','e','f','g','h','i','j','k','l','m','n','o','p','q','r','s','t','u','v','w','x','y','z']\n",
    "w = ['~','!','@','#','$','%','^','&','*']\n",
    "\n",
    "z=x+y+w\n",
    "\n",
    "while 1:\n",
    "  n = random.randrange(8,13)\n",
    "  random.shuffle(z)\n",
    "  p = z[0:n]\n",
    "\n",
    "  a = 0\n",
    "  b = 0\n",
    "  c = 0\n",
    "  for i in p:\n",
    "    if i in x:\n",
    "      a = a+1\n",
    "    elif i in y:\n",
    "      b = b+1\n",
    "    else:\n",
    "      c = c+1\n",
    "\n",
    "  if (a != 0 and b !=0 and c !=0 ):\n",
    "    break\n",
    "\n",
    "\n",
    "for i in p:\n",
    "  print(i, end=\"\")"
   ]
  }
 ],
 "metadata": {
  "kernelspec": {
   "display_name": "Python 3",
   "language": "python",
   "name": "python3"
  },
  "language_info": {
   "codemirror_mode": {
    "name": "ipython",
    "version": 3
   },
   "file_extension": ".py",
   "mimetype": "text/x-python",
   "name": "python",
   "nbconvert_exporter": "python",
   "pygments_lexer": "ipython3",
   "version": "3.6.5"
  }
 },
 "nbformat": 4,
 "nbformat_minor": 2
}

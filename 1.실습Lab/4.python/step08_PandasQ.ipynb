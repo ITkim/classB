{
 "cells": [
  {
   "cell_type": "markdown",
   "metadata": {},
   "source": [
    "# Pandas란?\n",
    "\n",
    "데이터 분석 및 가공에 사용되는 파이썬 라이브러리\n",
    "\n",
    "사용 빈도가 매우 높음, 엑셀과 상당히 유사\n",
    "\n",
    "데이터의 수정/가공 및 분석이 용이하고, 데이터 가공을 위한 수많은 함수를 지원\n",
    "\n",
    "Numpy 기반으로 데이터 처리가 상당히 빠름  \n"
   ]
  },
  {
   "cell_type": "code",
   "execution_count": null,
   "metadata": {},
   "outputs": [],
   "source": [
    "import pandas as pd\n",
    "import numpy as np"
   ]
  },
  {
   "cell_type": "code",
   "execution_count": null,
   "metadata": {},
   "outputs": [],
   "source": [
    "df.to_csv('dataSet/friends_out5.csv', header = ['name', 'age', 'job', 'hobby'])"
   ]
  },
  {
   "cell_type": "markdown",
   "metadata": {},
   "source": [
    "아래는 **None** 값이 있는 데이터프레임의 예제"
   ]
  },
  {
   "cell_type": "code",
   "execution_count": null,
   "metadata": {},
   "outputs": [],
   "source": [
    "friends = [['신동엽',20,'연예인','music'], \n",
    "           [None,None,'교수','art'], \n",
    "           ['김새롬',18,'학생','study'], \n",
    "           ['이영자',45,'상담사','talk'], \n",
    "           ['강호동',38,'연예인','talk']]\n",
    "\n",
    "df = pd.DataFrame.from_records(friends)"
   ]
  },
  {
   "cell_type": "code",
   "execution_count": null,
   "metadata": {},
   "outputs": [],
   "source": [
    "df.head()"
   ]
  },
  {
   "cell_type": "code",
   "execution_count": null,
   "metadata": {},
   "outputs": [],
   "source": [
    "df.to_csv('dataSet/friends_out6.csv')"
   ]
  },
  {
   "cell_type": "code",
   "execution_count": null,
   "metadata": {},
   "outputs": [],
   "source": [
    "df"
   ]
  },
  {
   "cell_type": "markdown",
   "metadata": {},
   "source": [
    "**na_rep** 을 사용하시면 **None** 을 원하시는 값으로 쉽게 변경하실 수 있습니다."
   ]
  },
  {
   "cell_type": "code",
   "execution_count": null,
   "metadata": {},
   "outputs": [],
   "source": [
    "df.to_csv('dataSet/friends_out7.csv', na_rep = '-')"
   ]
  },
  {
   "cell_type": "markdown",
   "metadata": {},
   "source": [
    "## 예제 구성 - 학생들의 중간, 기말 고사 성적\n",
    "\n",
    ">* 다양한 연산식을 적용하여 새로운 컬럼을 추가해 보기"
   ]
  },
  {
   "cell_type": "code",
   "execution_count": null,
   "metadata": {},
   "outputs": [],
   "source": [
    "friend_dict_list = [{'이름': '나학생1', '중간고사점수': 95, '기말고사점수': 85},\n",
    "         {'이름': '나학생2', '중간고사점수': 85, '기말고사점수': 80},\n",
    "         {'이름': '나학생3', '중간고사점수': 10, '기말고사점수': 30}]\n",
    "\n",
    "df = pd.DataFrame(friend_dict_list, columns = ['이름', '중간고사점수', '기말고사점수'])\n",
    "df"
   ]
  },
  {
   "cell_type": "code",
   "execution_count": null,
   "metadata": {},
   "outputs": [],
   "source": [
    "# ??? 총점을 구한된 새로운 컬럼 추가하기\n",
    "\n",
    "df['총점'] = "
   ]
  },
  {
   "cell_type": "code",
   "execution_count": null,
   "metadata": {},
   "outputs": [],
   "source": [
    "df"
   ]
  },
  {
   "cell_type": "code",
   "execution_count": null,
   "metadata": {},
   "outputs": [],
   "source": [
    "# ??? 총점을 기준으로 평균을 구하고 DataFrame 컬럼으로 추가하기\n",
    "\n",
    "df['평균'] = "
   ]
  },
  {
   "cell_type": "code",
   "execution_count": null,
   "metadata": {},
   "outputs": [],
   "source": [
    "df"
   ]
  },
  {
   "cell_type": "markdown",
   "metadata": {},
   "source": [
    "### 힌트\n",
    ">* 1. DataFrame의 '평균' 컬럼값을 for in 반복문을 통해서 출력해 보기\n",
    "\n",
    ">* 2. 리스트 생성해서 DataFrame에 '등급'이라는 컬럼으로 추가해 보고 dorp으로 삭제하기\n",
    "\n",
    ">* 3. list 에 새로운 데이터 추가를 위한 append() 활용해 보기"
   ]
  },
  {
   "cell_type": "code",
   "execution_count": null,
   "metadata": {},
   "outputs": [],
   "source": [
    "#? 평균 컬럼값을 for in 문장 통해서 출력해 보기\n",
    "\n"
   ]
  },
  {
   "cell_type": "code",
   "execution_count": null,
   "metadata": {},
   "outputs": [],
   "source": [
    "df['등급'] =  ['A', 'B', 'C']"
   ]
  },
  {
   "cell_type": "code",
   "execution_count": null,
   "metadata": {},
   "outputs": [],
   "source": [
    "df.drop('등급', axis=1)"
   ]
  },
  {
   "cell_type": "markdown",
   "metadata": {},
   "source": [
    "apply 함수 사용 예제입니다.  \n",
    "apply를 사용하시면, 깔끔하게 컬럼의 값을 변경하는 코드를 구현하실 수 있습니다."
   ]
  },
  {
   "cell_type": "code",
   "execution_count": null,
   "metadata": {},
   "outputs": [],
   "source": [
    "# ? 힌트를 기반으로 직접 만들어 보기\n",
    "# 등급 컬럼 추가하기\n",
    "# 리스트에 조건별 값을 담아서, 새로운 컬럼으로 추가해 보기\n",
    "\n",
    "\n"
   ]
  },
  {
   "cell_type": "code",
   "execution_count": null,
   "metadata": {},
   "outputs": [],
   "source": [
    "df"
   ]
  },
  {
   "cell_type": "code",
   "execution_count": null,
   "metadata": {},
   "outputs": [],
   "source": [
    "def pass_or_fail(row):\n",
    "   # print(row)\n",
    "    if row != \"F\":\n",
    "        return 'Pass'\n",
    "    else:\n",
    "        return 'Fail'"
   ]
  },
  {
   "cell_type": "code",
   "execution_count": null,
   "metadata": {},
   "outputs": [],
   "source": [
    "df.등급"
   ]
  },
  {
   "cell_type": "code",
   "execution_count": null,
   "metadata": {},
   "outputs": [],
   "source": [
    "df.등급 = df.등급.apply(pass_or_fail)"
   ]
  },
  {
   "cell_type": "code",
   "execution_count": null,
   "metadata": {},
   "outputs": [],
   "source": [
    "df"
   ]
  },
  {
   "cell_type": "markdown",
   "metadata": {},
   "source": [
    "apply를 사용해서 연월일의 정보에서 연도만 빼보기"
   ]
  },
  {
   "cell_type": "code",
   "execution_count": null,
   "metadata": {},
   "outputs": [],
   "source": [
    "date_list = [{'yyyy-mm-dd': '2000-06-27'},\n",
    "         {'yyyy-mm-dd': '2002-09-24'},\n",
    "         {'yyyy-mm-dd': '2018-12-20'}]\n",
    "\n",
    "df = pd.DataFrame(date_list, columns = ['yyyy-mm-dd'])\n",
    "\n",
    "df"
   ]
  },
  {
   "cell_type": "code",
   "execution_count": null,
   "metadata": {},
   "outputs": [],
   "source": [
    "def extract_year(row):\n",
    "    return row.split('-')[0]"
   ]
  },
  {
   "cell_type": "code",
   "execution_count": null,
   "metadata": {},
   "outputs": [],
   "source": [
    "# 년도만 분리해서 'year'라는 새로운 컬럼 추가히기\n",
    "df['year'] = df['yyyy-mm-dd'].apply(extract_year)"
   ]
  },
  {
   "cell_type": "code",
   "execution_count": null,
   "metadata": {},
   "outputs": [],
   "source": [
    "df"
   ]
  },
  {
   "cell_type": "markdown",
   "metadata": {},
   "source": [
    "### apply 함수에 파라미터 전달하기\n",
    "키워드 파라미터를 이용하여, apply가 적용된 함수에 파라미터를 전달하기"
   ]
  },
  {
   "cell_type": "code",
   "execution_count": null,
   "metadata": {},
   "outputs": [],
   "source": [
    "# 현재 년도를 기준으로 DataFrame에 저장된 년도의 컬럼값과 빼기를 해서 몇년도가 지났는지를 계산하는 함수\n",
    "\n",
    "def extract_year(year, current_year):\n",
    "    return current_year - int(year)"
   ]
  },
  {
   "cell_type": "code",
   "execution_count": null,
   "metadata": {},
   "outputs": [],
   "source": [
    "# extract_year 함수를 호출하고 age 컬럼을 DataFrame에 추가하기\n",
    "\n",
    "df['age'] = df['year'].apply(extract_year, current_year=2018)\n",
    "df"
   ]
  },
  {
   "cell_type": "markdown",
   "metadata": {},
   "source": [
    "### apply 함수에 한 개 이상의 파라미터 전달하기\n",
    "키워드 파라미터를 추가해주시면, 원하시는만큼의 파라미터를 함수에 전달 가능합니다."
   ]
  },
  {
   "cell_type": "code",
   "execution_count": null,
   "metadata": {},
   "outputs": [],
   "source": [
    "def getInfo(age, prefix, suffix):\n",
    "    return prefix + str(age) + suffix"
   ]
  },
  {
   "cell_type": "code",
   "execution_count": null,
   "metadata": {},
   "outputs": [],
   "source": [
    "df['info'] = df['age'].apply(getInfo, prefix=\"내 나이는 \", suffix=\" 살\")\n",
    "df"
   ]
  },
  {
   "cell_type": "code",
   "execution_count": null,
   "metadata": {},
   "outputs": [],
   "source": [
    "df = df.drop('introduce', axis=1)\n",
    "df"
   ]
  },
  {
   "cell_type": "markdown",
   "metadata": {},
   "source": [
    "# 데이터프레임에 로우 추가하기"
   ]
  },
  {
   "cell_type": "code",
   "execution_count": null,
   "metadata": {},
   "outputs": [],
   "source": [
    "friend_dict_list = [{'이름': '나학생1', '중간고사점수': 95, '기말고사점수': 85},\n",
    "         {'이름': '나학생2', '중간고사점수': 85, '기말고사점수': 80},\n",
    "         {'이름': '나학생3', '중간고사점수': 10, '기말고사점수': 30}]\n",
    "\n",
    "df = pd.DataFrame(friend_dict_list, columns = ['이름', '중간고사점수', '기말고사점수'])\n",
    "df"
   ]
  },
  {
   "cell_type": "code",
   "execution_count": null,
   "metadata": {},
   "outputs": [],
   "source": [
    "#? 컬럼 이름 추가하기\n",
    "\n",
    "df2 = pd.DataFrame([['나학생4', 50,50]], columns = ['이름', '중간고사점수', '기말고사점수'])"
   ]
  },
  {
   "cell_type": "code",
   "execution_count": null,
   "metadata": {},
   "outputs": [],
   "source": [
    "df2.head()"
   ]
  },
  {
   "cell_type": "code",
   "execution_count": null,
   "metadata": {},
   "outputs": [],
   "source": [
    "df.append(df2)"
   ]
  },
  {
   "cell_type": "code",
   "execution_count": null,
   "metadata": {},
   "outputs": [],
   "source": [
    "df.append(df2, ignore_index=True)"
   ]
  },
  {
   "cell_type": "markdown",
   "metadata": {},
   "source": [
    "# Group by\n",
    "\n",
    "데이터에서 정보를 취하기 위해서 그룹별로 묶는 방법에 대해 학습 하기"
   ]
  },
  {
   "cell_type": "code",
   "execution_count": null,
   "metadata": {},
   "outputs": [],
   "source": [
    "student_list = [{'name': 'John', 'major': \"Computer Science\", 'gender': \"male\"},\n",
    "                {'name': 'Nate', 'major': \"Computer Science\", 'gender': \"male\"},\n",
    "                {'name': 'Abraham', 'major': \"Physics\", 'gender': \"male\"},\n",
    "                {'name': 'Brian', 'major': \"Psychology\", 'gender': \"male\"},\n",
    "                {'name': 'Janny', 'major': \"Economics\", 'gender': \"female\"},\n",
    "                {'name': 'Yuna', 'major': \"Economics\", 'gender': \"female\"},\n",
    "                {'name': 'Jeniffer', 'major': \"Computer Science\", 'gender': \"female\"},\n",
    "                {'name': 'Edward', 'major': \"Computer Science\", 'gender': \"male\"},\n",
    "                {'name': 'Zara', 'major': \"Psychology\", 'gender': \"female\"},\n",
    "                {'name': 'Wendy', 'major': \"Economics\", 'gender': \"female\"},\n",
    "                {'name': 'Sera', 'major': \"Psychology\", 'gender': \"female\"}\n",
    "         ]\n",
    "df = pd.DataFrame(student_list, columns = ['name', 'major', 'gender'])\n",
    "df"
   ]
  },
  {
   "cell_type": "code",
   "execution_count": null,
   "metadata": {},
   "outputs": [],
   "source": [
    "#? 전공(major)으로 group 하기\n",
    "\n"
   ]
  },
  {
   "cell_type": "code",
   "execution_count": null,
   "metadata": {},
   "outputs": [],
   "source": [
    "groupby_major.groups"
   ]
  },
  {
   "cell_type": "code",
   "execution_count": null,
   "metadata": {},
   "outputs": [],
   "source": [
    "groupby_major"
   ]
  },
  {
   "cell_type": "code",
   "execution_count": null,
   "metadata": {},
   "outputs": [],
   "source": [
    "type(groupby_major)"
   ]
  },
  {
   "cell_type": "code",
   "execution_count": null,
   "metadata": {},
   "outputs": [],
   "source": [
    "groupby_major.name"
   ]
  },
  {
   "cell_type": "code",
   "execution_count": null,
   "metadata": {},
   "outputs": [],
   "source": [
    "groupby_major.gender"
   ]
  },
  {
   "cell_type": "code",
   "execution_count": null,
   "metadata": {},
   "outputs": [],
   "source": [
    "groupby_major.major"
   ]
  },
  {
   "cell_type": "code",
   "execution_count": null,
   "metadata": {},
   "outputs": [],
   "source": [
    "for name, group in groupby_major:\n",
    "    print(name + \": \" + str(len(group)))\n",
    "    print(group)\n",
    "    print()"
   ]
  },
  {
   "cell_type": "markdown",
   "metadata": {},
   "source": [
    "### 그룹 객체를 다시 데이터프레임으로 생성하기"
   ]
  },
  {
   "cell_type": "code",
   "execution_count": null,
   "metadata": {},
   "outputs": [],
   "source": [
    "df_major_cnt = pd.DataFrame({'count' : groupby_major.size()})\n",
    "df_major_cnt"
   ]
  },
  {
   "cell_type": "code",
   "execution_count": null,
   "metadata": {},
   "outputs": [],
   "source": [
    "df_major_cnt = pd.DataFrame({'count' : groupby_major.size()}).reset_index()\n",
    "df_major_cnt"
   ]
  },
  {
   "cell_type": "markdown",
   "metadata": {},
   "source": [
    "### Lab - ? 학교의 남녀 성비가 균등하다는 정보 알아보기\n",
    "\n",
    ">* gender 별로 그룹화 하기\n",
    "\n",
    ">* 그룹 단위로 이름, 전공, 성별 출력하기\n",
    "\n",
    ">* 성별 인원스로 새로운 DataFrame 생성하기"
   ]
  },
  {
   "cell_type": "code",
   "execution_count": null,
   "metadata": {},
   "outputs": [],
   "source": [
    "groupby_gender = df.groupby('gender')"
   ]
  },
  {
   "cell_type": "code",
   "execution_count": null,
   "metadata": {},
   "outputs": [],
   "source": [
    "#? 그룹별 정보를 반복문 통해서 자유롭게 출력해 보기\n",
    "\n"
   ]
  },
  {
   "cell_type": "code",
   "execution_count": null,
   "metadata": {},
   "outputs": [],
   "source": [
    "df_gender_cnt = pd.DataFrame({'count' : groupby_gender.size()}).reset_index()\n",
    "df_gender_cnt"
   ]
  }
 ],
 "metadata": {
  "kernelspec": {
   "display_name": "Python 3",
   "language": "python",
   "name": "python3"
  },
  "language_info": {
   "codemirror_mode": {
    "name": "ipython",
    "version": 3
   },
   "file_extension": ".py",
   "mimetype": "text/x-python",
   "name": "python",
   "nbconvert_exporter": "python",
   "pygments_lexer": "ipython3",
   "version": "3.6.5"
  }
 },
 "nbformat": 4,
 "nbformat_minor": 2
}

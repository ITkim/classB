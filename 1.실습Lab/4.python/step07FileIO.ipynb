{
 "cells": [
  {
   "cell_type": "markdown",
   "metadata": {},
   "source": [
    "### 1. 논리적인 파일 구조\n",
    "\n",
    ">1. 파일 안에는 바이트들이 순차적으로 저장되어 있고 맨 끝에는 EOF(end-of-file) 마커가 있음\n",
    "\n",
    ">2. 모든 파일은 입출력 동작이 발생하는 위치를 나타내는 위치 표시자(position indicator)를 가지고 있음\n",
    "\n",
    ">3. 텍스트 파일 읽고 쓰기<br>\n",
    "   - open(\"file 이름\", 파일열기모드, 인코딩)<br>\n",
    "   - 파일 열기 모드<br>\n",
    "       1. r : 읽기 모드(파일의 처음부터 read)<br>\n",
    "       2. w : 쓰기 모드(파일의 처음부터 쓰기, 파일이 없으면 생성, 존재하면 기존 내용은 지우고 새로 작성)<br>\n",
    "       3. a : 추가 모드(파일의 끝에 씀, 파일이 없으면 생성)<br>\n",
    "       4. r+ : 읽기 쓰기 모드(파일에 읽고 쓸수 있는 모드)\n",
    "    "
   ]
  },
  {
   "cell_type": "code",
   "execution_count": 1,
   "metadata": {},
   "outputs": [],
   "source": [
    "#파일쓰기\n",
    "f = open(\"output.txt\", \"w\", encoding=\"utf-8\" )\n",
    "\n",
    "f.write(\"#1.open()으로 파일 객체얻기\\n\")\n",
    "f.write(\"#2.read(), write()\\n\")\n",
    "f.write(\"#3.close()\\n\")\n",
    "\n",
    "f.close()\n"
   ]
  },
  {
   "cell_type": "code",
   "execution_count": 2,
   "metadata": {},
   "outputs": [],
   "source": [
    "#with문 이용....with를 빠지면서 자동으로 close()\n",
    "with open(\"output2.txt\", \"w\" , encoding='utf-8') as f:\n",
    "    \n",
    "    f.write(\"#1.open()으로 파일 객체얻기\\n\")\n",
    "    f.write(\"#2.read(), write()\\n\")\n",
    "    f.write(\"#3.close()\\n\")"
   ]
  },
  {
   "cell_type": "code",
   "execution_count": 3,
   "metadata": {},
   "outputs": [
    {
     "name": "stdout",
     "output_type": "stream",
     "text": [
      "#1.open()으로 파일 객체얻기\n",
      "#2.read(), write()\n",
      "#3.close()\n",
      "\n"
     ]
    }
   ],
   "source": [
    "#파일읽기\n",
    "with open(\"output2.txt\", \"r\", encoding='utf-8') as f:\n",
    "    print(f.read())"
   ]
  },
  {
   "cell_type": "code",
   "execution_count": 4,
   "metadata": {},
   "outputs": [],
   "source": [
    "#줄단위로 파일을 쓰기\n",
    "lines = [\"first line\\n\", \"second line\\n\", \"third line\\n\"]\n",
    "\n",
    "with open(\"output3.txt\",\"w\") as f:\n",
    "    f.writelines(lines)"
   ]
  },
  {
   "cell_type": "code",
   "execution_count": 5,
   "metadata": {},
   "outputs": [],
   "source": [
    "lines = [\"first line\", \"second line\", \"third line\"]\n",
    "\n",
    "with open(\"output4.txt\",\"w\") as f:\n",
    "    f.write(\"\\n\".join(lines))  #join으로 줄 바꾸기를 추가하고 write"
   ]
  },
  {
   "cell_type": "code",
   "execution_count": 6,
   "metadata": {},
   "outputs": [
    {
     "name": "stdout",
     "output_type": "stream",
     "text": [
      "first line\n",
      "second line\n",
      "third line\n",
      "\n"
     ]
    }
   ],
   "source": [
    "with open(\"output3.txt\",\"r\") as f:\n",
    "    print(f.read())"
   ]
  },
  {
   "cell_type": "code",
   "execution_count": 10,
   "metadata": {},
   "outputs": [
    {
     "name": "stdout",
     "output_type": "stream",
     "text": [
      "['first line\\n', 'second line\\n', 'third line\\n']\n"
     ]
    }
   ],
   "source": [
    "#줄단위로 읽기\n",
    "#readline()  : 파일을 한번에 한 줄씩 읽음\n",
    "#readlines() : 파일 전체를 줄 단위로 끊어서 리스트에 저장 \n",
    "\n",
    "with open(\"output3.txt\",\"r\") as f:\n",
    "    #print(f.read())#한꺼번에 읽기\n",
    "    #print(f.readline())#한 라인 읽기\n",
    "    print(f.readlines())#파일 전체를 줄 단위로 끊어서 리스트에 저장\n"
   ]
  },
  {
   "cell_type": "code",
   "execution_count": 11,
   "metadata": {},
   "outputs": [
    {
     "name": "stdout",
     "output_type": "stream",
     "text": [
      "first line\n",
      " second line\n",
      " third line\n",
      " "
     ]
    }
   ],
   "source": [
    "with open(\"output3.txt\",\"r\") as f:\n",
    "    for line in f:   #한 라인씩 읽음\n",
    "        print(line, end=' ') "
   ]
  },
  {
   "cell_type": "code",
   "execution_count": 9,
   "metadata": {},
   "outputs": [
    {
     "name": "stdout",
     "output_type": "stream",
     "text": [
      "first line\n",
      "second line\n",
      "third line\n"
     ]
    }
   ],
   "source": [
    "with open(\"output3.txt\", \"r\") as f:\n",
    "    line = f.readline()\n",
    "    while line: #line이 ''이면 파일의 끝을 의미 \n",
    "        print(line, end='')\n",
    "        line = f.readline()"
   ]
  },
  {
   "cell_type": "code",
   "execution_count": 13,
   "metadata": {},
   "outputs": [
    {
     "name": "stdout",
     "output_type": "stream",
     "text": [
      "first line\n",
      "\n",
      "second line\n",
      "\n",
      "third line\n",
      "\n"
     ]
    }
   ],
   "source": [
    "with open(\"output3.txt\",\"r\") as f:\n",
    "    for line in f.readlines(): #줄단위인데\n",
    "        print(line) #출력시 줄바꿈이 되고있음 end=''"
   ]
  },
  {
   "cell_type": "code",
   "execution_count": 16,
   "metadata": {},
   "outputs": [
    {
     "name": "stdout",
     "output_type": "stream",
     "text": [
      "fi\n",
      "rst \n"
     ]
    }
   ],
   "source": [
    "# 파일에서 원하는 만큼의 문자 읽기\n",
    "f=open(\"output3.txt\")\n",
    "print(f.read(2))\n",
    "print(f.read(4))\n",
    "f.close()"
   ]
  },
  {
   "cell_type": "markdown",
   "metadata": {},
   "source": [
    "#### Lab 1 - dataSet.txt 파일을 만들고 #으로 시작하는 문장만 출력해 보기\n",
    "> 힌트 : startwith() "
   ]
  },
  {
   "cell_type": "code",
   "execution_count": 18,
   "metadata": {},
   "outputs": [
    {
     "name": "stdout",
     "output_type": "stream",
     "text": [
      "Overwriting dataSet.txt\n"
     ]
    }
   ],
   "source": [
    "%%file dataSet.txt\n",
    "\n",
    "NumPy is the fundamental package for scientific computing with Python. It contains among other things:\n",
    "\n",
    "# comment1..\n",
    "\n",
    "  * a powerful N-dimensional array object\n",
    "  * sophisticated (broadcasting) functions\n",
    "  * tools for integrating C/C++ and Fortran code\n",
    "  * useful linear algebra, Fourier transform, and random number capabilities\n",
    "\n",
    "# comment2..\n",
    "\n",
    "Besides its obvious scientific uses, NumPy can also be used as an efficient multi-dimensional container of generic data. Arbitrary data-types can be defined. This allows NumPy to seamlessly and speedily integrate with a wide variety of databases.\n",
    "\n",
    "Numpy is licensed under the BSD license, enabling reuse with few restrictions.\n"
   ]
  },
  {
   "cell_type": "code",
   "execution_count": 20,
   "metadata": {},
   "outputs": [],
   "source": [
    "# 0~9까지 라인을 변경해 가면서 출력하는 파일 생성해 보기\n",
    "#방법1\n",
    "f = open(\"number.txt\", \"w\")\n",
    "for k in range(10):\n",
    "    f.write(\"{}\\n\".format(k))\n",
    "f.close()"
   ]
  },
  {
   "cell_type": "code",
   "execution_count": 21,
   "metadata": {},
   "outputs": [],
   "source": [
    "#방법2\n",
    "f = open(\"number2.txt\", \"w\")\n",
    "s = \"\\n\".join([str(k) for k in range(10)])\n",
    "f.write(s)\n",
    "f.close()"
   ]
  },
  {
   "cell_type": "code",
   "execution_count": 22,
   "metadata": {},
   "outputs": [],
   "source": [
    "#방법3\n",
    "with open(\"number3.txt\", \"w\") as f:\n",
    "    s = \"\\n\".join([str(k) for k in range(10)])\n",
    "    f.write(s)                           "
   ]
  },
  {
   "cell_type": "code",
   "execution_count": 23,
   "metadata": {},
   "outputs": [],
   "source": [
    "#방법4\n",
    "with open(\"number4.txt\", \"w\") as f:\n",
    "    s = [str(k)+\"\\n\" for k in range(10)]\n",
    "    f.writelines(s)"
   ]
  },
  {
   "cell_type": "code",
   "execution_count": 25,
   "metadata": {},
   "outputs": [
    {
     "name": "stdout",
     "output_type": "stream",
     "text": [
      "0\n",
      "1\n",
      "2\n",
      "3\n",
      "4\n",
      "5\n",
      "6\n",
      "7\n",
      "8\n",
      "9\n",
      "\n",
      "-------------------------\n",
      "0\n",
      "1\n",
      "2\n",
      "3\n",
      "4\n",
      "5\n",
      "6\n",
      "7\n",
      "8\n",
      "9\n",
      "-------------------------\n",
      "0\n",
      "1\n",
      "2\n",
      "3\n",
      "4\n",
      "5\n",
      "6\n",
      "7\n",
      "8\n",
      "9\n",
      "-------------------------\n",
      "0\n",
      "1\n",
      "2\n",
      "3\n",
      "4\n",
      "5\n",
      "6\n",
      "7\n",
      "8\n",
      "9\n",
      "\n"
     ]
    }
   ],
   "source": [
    "print(open(\"number.txt\").read())\n",
    "print(\"-------------------------\")\n",
    "print(open(\"number2.txt\").read())\n",
    "print(\"-------------------------\")\n",
    "print(open(\"number3.txt\").read())\n",
    "print(\"-------------------------\")\n",
    "print(open(\"number4.txt\").read())"
   ]
  },
  {
   "cell_type": "code",
   "execution_count": 26,
   "metadata": {},
   "outputs": [
    {
     "name": "stdout",
     "output_type": "stream",
     "text": [
      "Writing s.txt\n"
     ]
    }
   ],
   "source": [
    "%%file s.txt\n",
    "pig ham\n",
    "cat dog\n",
    "ham bird\n",
    "dog pig"
   ]
  },
  {
   "cell_type": "code",
   "execution_count": 27,
   "metadata": {},
   "outputs": [
    {
     "data": {
      "text/plain": [
       "['pig', 'ham', 'cat', 'dog', 'ham', 'bird', 'dog', 'pig']"
      ]
     },
     "execution_count": 27,
     "metadata": {},
     "output_type": "execute_result"
    }
   ],
   "source": [
    "ws = open(\"s.txt\").read().split()\n",
    "ws"
   ]
  },
  {
   "cell_type": "code",
   "execution_count": 30,
   "metadata": {},
   "outputs": [
    {
     "name": "stdout",
     "output_type": "stream",
     "text": [
      "pig ham cat\n",
      "dog ham bird\n",
      "dog pig\n"
     ]
    }
   ],
   "source": [
    "for k in range(0,len(ws), 3):\n",
    "    print(\" \".join(ws[k:k+3]))"
   ]
  },
  {
   "cell_type": "markdown",
   "metadata": {},
   "source": [
    "### Lab 2 ? - 줄 앞에 번호붙이기 \n",
    "\n",
    "> 텍스트 파일을 열어서 각 줄의 앞에 번호를 매겨서 다시 파일에 쓰는 프로그램을 작성해보자<br>\n",
    "> 참조 파일명 : lineInsert.txt (dataSet 폴더에 있음)\n"
   ]
  },
  {
   "cell_type": "markdown",
   "metadata": {},
   "source": [
    "### Lab 3 ? - 매출 파일 처리\n",
    "> 텍스트 파일에 상점의 매출이 저장되어 있다. read해서 평균 매출과 총 매출을 계산한 후에 다른 파일에 출력하는 프로그램 작성해 보기\n"
   ]
  },
  {
   "cell_type": "code",
   "execution_count": null,
   "metadata": {},
   "outputs": [],
   "source": []
  }
 ],
 "metadata": {
  "kernelspec": {
   "display_name": "Python 3",
   "language": "python",
   "name": "python3"
  },
  "language_info": {
   "codemirror_mode": {
    "name": "ipython",
    "version": 3
   },
   "file_extension": ".py",
   "mimetype": "text/x-python",
   "name": "python",
   "nbconvert_exporter": "python",
   "pygments_lexer": "ipython3",
   "version": "3.6.5"
  }
 },
 "nbformat": 4,
 "nbformat_minor": 2
}

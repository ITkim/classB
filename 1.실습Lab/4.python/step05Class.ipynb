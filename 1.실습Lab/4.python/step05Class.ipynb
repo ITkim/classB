{
 "cells": [
  {
   "cell_type": "markdown",
   "metadata": {},
   "source": [
    "### 파이썬 클래스 \n",
    "\n",
    "> 사용자 정의 클래스 개발 방법<br>\n",
    "\n",
    ">  주요 키워드 : self가 적용된 변수는 모두 다 instance 변수 <br>\n",
    "\n",
    ">  접근자 : 정보 은닉 및 유효성 검증을 위해 private으로 정의하는 방법 - 변수명 앞단에 __ 선언<br>"
   ]
  },
  {
   "cell_type": "code",
   "execution_count": 102,
   "metadata": {},
   "outputs": [],
   "source": [
    "def get():\n",
    "    print(\"class외부의 get함수\")\n",
    "    return 1000;\n",
    "\n",
    "class MyClss2:\n",
    "    def set(self, v):\n",
    "        self.value = v\n",
    "        \n",
    "    def get(self):\n",
    "        return self.value\n",
    "    \n",
    "    def incr(self):\n",
    "        self.value += 1\n",
    "        return self.get()  #만약에 self를 생략한다면 외부의 get()함수가 호출\n",
    "   \n",
    "    def incr2(self):\n",
    "        self.value += 1\n",
    "        return get()  #만약에 self를 생략한다면 외부의 get()함수가 호출"
   ]
  },
  {
   "cell_type": "code",
   "execution_count": 105,
   "metadata": {},
   "outputs": [
    {
     "name": "stdout",
     "output_type": "stream",
     "text": [
      "--- a.get() ---\n",
      "100\n",
      "--- a.incr() ---\n",
      "101\n",
      "--- a.incr2() ---\n",
      "class외부의 get함수\n",
      "1000\n",
      "--- a.value ---\n",
      "102\n"
     ]
    }
   ],
   "source": [
    "a = MyClss2()\n",
    "\n",
    "a.set(100)\n",
    "print(\"--- a.get() ---\")\n",
    "print(a.get())\n",
    "print(\"--- a.incr() ---\")\n",
    "print(a.incr())\n",
    "print(\"--- a.incr2() ---\")\n",
    "print(a.incr2())\n",
    "print(\"--- a.value ---\")\n",
    "print(a.value)"
   ]
  },
  {
   "cell_type": "code",
   "execution_count": 7,
   "metadata": {},
   "outputs": [],
   "source": [
    "class MyClass2:\n",
    "    def set(self, v):\n",
    "        self.__value = v\n",
    "        \n",
    "    def get(self):\n",
    "        return self.__value"
   ]
  },
  {
   "cell_type": "code",
   "execution_count": 8,
   "metadata": {},
   "outputs": [
    {
     "name": "stdout",
     "output_type": "stream",
     "text": [
      "1000\n"
     ]
    },
    {
     "ename": "AttributeError",
     "evalue": "'MyClass2' object has no attribute 'value'",
     "output_type": "error",
     "traceback": [
      "\u001b[1;31m---------------------------------------------------------------------------\u001b[0m",
      "\u001b[1;31mAttributeError\u001b[0m                            Traceback (most recent call last)",
      "\u001b[1;32m<ipython-input-8-c11bd2b87005>\u001b[0m in \u001b[0;36m<module>\u001b[1;34m()\u001b[0m\n\u001b[0;32m      2\u001b[0m \u001b[0ma\u001b[0m\u001b[1;33m.\u001b[0m\u001b[0mset\u001b[0m\u001b[1;33m(\u001b[0m\u001b[1;36m1000\u001b[0m\u001b[1;33m)\u001b[0m\u001b[1;33m\u001b[0m\u001b[0m\n\u001b[0;32m      3\u001b[0m \u001b[0mprint\u001b[0m\u001b[1;33m(\u001b[0m\u001b[0ma\u001b[0m\u001b[1;33m.\u001b[0m\u001b[0mget\u001b[0m\u001b[1;33m(\u001b[0m\u001b[1;33m)\u001b[0m\u001b[1;33m)\u001b[0m\u001b[1;33m\u001b[0m\u001b[0m\n\u001b[1;32m----> 4\u001b[1;33m \u001b[0mprint\u001b[0m\u001b[1;33m(\u001b[0m\u001b[0ma\u001b[0m\u001b[1;33m.\u001b[0m\u001b[0mvalue\u001b[0m\u001b[1;33m)\u001b[0m\u001b[1;33m\u001b[0m\u001b[0m\n\u001b[0m",
      "\u001b[1;31mAttributeError\u001b[0m: 'MyClass2' object has no attribute 'value'"
     ]
    }
   ],
   "source": [
    "a = MyClass2()\n",
    "a.set(1000)\n",
    "print(a.get())\n",
    "print(a.value)"
   ]
  },
  {
   "cell_type": "markdown",
   "metadata": {},
   "source": [
    "\n",
    "\n",
    "\n",
    "### 2. 생성자와 소멸자\n",
    "\n",
    "> 생성자(constructor)는 객체가 생성될 때 객체를 기본값으로 초기화<br>\n",
    "> 파이썬에서는 생성자의 이름으로 __init__() 사용<br>\n"
   ]
  },
  {
   "cell_type": "code",
   "execution_count": 9,
   "metadata": {},
   "outputs": [],
   "source": [
    "#생성자와 소멸자 \n",
    "# __init__() : 인스턴스 객체가 생성되고 나서 자동으로 호출\n",
    "#__del__() : del에 의해 호출\n",
    "\n",
    "class MyClass3():\n",
    "    def __init__(self):\n",
    "        print(\"생성\")\n",
    "        self.value=0\n",
    "        \n",
    "    def set(self, v):\n",
    "        self.value=v\n",
    "        \n",
    "    def get(self):\n",
    "        return self.value  \n",
    "    \n",
    "    def __del__(self):\n",
    "        print(\"소멸\")"
   ]
  },
  {
   "cell_type": "code",
   "execution_count": 99,
   "metadata": {},
   "outputs": [
    {
     "name": "stdout",
     "output_type": "stream",
     "text": [
      "생성\n",
      "0\n",
      "100\n",
      "소멸\n"
     ]
    }
   ],
   "source": [
    "a = MyClass3()\n",
    "print(a.get())\n",
    "a.set(100)\n",
    "print(a.get())\n",
    "del a"
   ]
  },
  {
   "cell_type": "markdown",
   "metadata": {},
   "source": [
    "### 3. 특수 메소드\n",
    ">1. \\__init__ <br>\n",
    ">2. \\__str__ <br>\n",
    ">"
   ]
  },
  {
   "cell_type": "code",
   "execution_count": 1,
   "metadata": {},
   "outputs": [
    {
     "ename": "IndentationError",
     "evalue": "unindent does not match any outer indentation level (<ipython-input-1-9cdfd13810dc>, line 7)",
     "output_type": "error",
     "traceback": [
      "\u001b[1;36m  File \u001b[1;32m\"<ipython-input-1-9cdfd13810dc>\"\u001b[1;36m, line \u001b[1;32m7\u001b[0m\n\u001b[1;33m    def __str__(self):\u001b[0m\n\u001b[1;37m                      ^\u001b[0m\n\u001b[1;31mIndentationError\u001b[0m\u001b[1;31m:\u001b[0m unindent does not match any outer indentation level\n"
     ]
    }
   ],
   "source": [
    "class Book:\n",
    "    def __init__(self, title, author, pages):\n",
    "      self.title = title\n",
    "      self.author = author\n",
    "      self.pages = pages\n",
    "\n",
    "   def __str__(self):\n",
    "      return \"제목:%s , 저자:%s, 페이지:%s \" % (self.title, self.author, self.pages)\n",
    "\n",
    "   def __len__(self):\n",
    "      return self.pages\n",
    "\n",
    "book = Book(\"Data Structure\", \"bookMan\", 200)\n",
    "print(book)\n",
    "print(len(book))\n"
   ]
  },
  {
   "cell_type": "code",
   "execution_count": null,
   "metadata": {},
   "outputs": [],
   "source": []
  }
 ],
 "metadata": {
  "kernelspec": {
   "display_name": "Python 3",
   "language": "python",
   "name": "python3"
  },
  "language_info": {
   "codemirror_mode": {
    "name": "ipython",
    "version": 3
   },
   "file_extension": ".py",
   "mimetype": "text/x-python",
   "name": "python",
   "nbconvert_exporter": "python",
   "pygments_lexer": "ipython3",
   "version": "3.6.5"
  }
 },
 "nbformat": 4,
 "nbformat_minor": 2
}
